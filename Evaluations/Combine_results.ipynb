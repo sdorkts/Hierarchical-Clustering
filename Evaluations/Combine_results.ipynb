{
 "cells": [
  {
   "cell_type": "code",
   "execution_count": 3,
   "metadata": {},
   "outputs": [],
   "source": [
    "import os\n",
    "import pandas as pd\n",
    "import re\n"
   ]
  },
  {
   "cell_type": "code",
   "execution_count": 37,
   "metadata": {},
   "outputs": [],
   "source": [
    "\n",
    "def extract_filename_info(filename):\n",
    "    pattern = (r\"results_all_methods_(?P<theme>.+)_hierarchy_t(?P<t>[\\d\\.]+)_\"\n",
    "               r\"maxsub(?P<max_sub>\\d+)_depth(?P<depth>\\d+)\"\n",
    "               r\"(?:_synonyms(?P<synonyms>\\d+))?\"\n",
    "               r\"(?:_(?P<branching>increasing|decreasing|constant|random))?.csv$\")\n",
    "    \n",
    "    match = re.match(pattern, filename)\n",
    "    \n",
    "    if match:\n",
    "        info = match.groupdict()\n",
    "        info[\"synonyms\"] = info[\"synonyms\"] if info[\"synonyms\"] else \"0\"\n",
    "        info[\"branching\"] = info[\"branching\"] if info[\"branching\"] else \"constant\"\n",
    "        return info\n",
    "    return None\n",
    "\n",
    "def process_files(folder_path, string_filters):\n",
    "    combined_df = pd.DataFrame()\n",
    "    processed_files = []\n",
    "\n",
    "    for file in os.listdir(folder_path):\n",
    "        if file.endswith(\".csv\") and file.startswith(\"results_all_methods_\"):\n",
    "            if not any(s in file for s in string_filters):\n",
    "                continue\n",
    "\n",
    "            file_path = os.path.join(folder_path, file)\n",
    "            file_info = extract_filename_info(file)\n",
    "\n",
    "            df = pd.read_csv(file_path)\n",
    "\n",
    "            # Add extracted filename info as new columns\n",
    "            for key, value in file_info.items():\n",
    "                df[key] = value\n",
    "            \n",
    "            combined_df = pd.concat([combined_df, df], ignore_index=True)\n",
    "            processed_files.append(file)\n",
    "\n",
    "\n",
    "    output_filename = \"processed_results_\" + \"_\".join(string_filters) + \".csv\"\n",
    "    output_path = os.path.join(folder_path, output_filename)\n",
    "    combined_df.to_csv(output_path, index=False)\n",
    "    return combined_df, processed_files"
   ]
  },
  {
   "cell_type": "code",
   "execution_count": 38,
   "metadata": {},
   "outputs": [],
   "source": [
    "\n",
    "# Usage example\n",
    "folder_path = \"bertopic_results\"  # Change this to the actual folder path\n",
    "combined_df, processed_files = process_files('bertopic_results',['synonyms10'])\n",
    "\n"
   ]
  },
  {
   "cell_type": "code",
   "execution_count": null,
   "metadata": {},
   "outputs": [],
   "source": []
  }
 ],
 "metadata": {
  "kernelspec": {
   "display_name": "base",
   "language": "python",
   "name": "python3"
  },
  "language_info": {
   "codemirror_mode": {
    "name": "ipython",
    "version": 3
   },
   "file_extension": ".py",
   "mimetype": "text/x-python",
   "name": "python",
   "nbconvert_exporter": "python",
   "pygments_lexer": "ipython3",
   "version": "3.12.2"
  }
 },
 "nbformat": 4,
 "nbformat_minor": 2
}
